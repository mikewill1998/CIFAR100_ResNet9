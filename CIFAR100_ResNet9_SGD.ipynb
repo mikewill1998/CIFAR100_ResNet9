{
  "cells": [
    {
      "cell_type": "code",
      "execution_count": 1,
      "metadata": {
        "id": "TufaJsaWW8IR"
      },
      "outputs": [],
      "source": [
        "import os\n",
        "import torch\n",
        "import torchvision\n",
        "import torch.nn as nn\n",
        "import numpy as np\n",
        "import torch.nn.functional as F\n",
        "from torchvision.datasets import CIFAR100\n",
        "from torch.utils.data import DataLoader, random_split\n",
        "import torchvision.transforms as tt\n",
        "from torch.utils.data import random_split\n",
        "from torchvision.utils import make_grid\n",
        "import matplotlib\n",
        "import matplotlib.pyplot as plt"
      ]
    },
    {
      "cell_type": "code",
      "execution_count": 2,
      "metadata": {
        "colab": {
          "base_uri": "https://localhost:8080/",
          "height": 103,
          "referenced_widgets": [
            "e0966d1fe7ec4795917d26815a31fbb9",
            "40e0de4bc2ae42bfaea4027551335c6a",
            "fcdb2d7470434c15a4022341a0a0c814",
            "d14b13f5bdfc4097bc999228577d2f08",
            "e124c9bdf8ee4215a2a9b397f2ddcca1",
            "35a50ad3e48d49e6894312bfc2dbba47",
            "52c2cb6b32d348e09ca59f0d7ea9ee66",
            "ab942da342b84796a46f06c356eb2531",
            "46ebf66938d64721b76ca2347a08d0d1",
            "418b8528e45442d7bd6d29334a200683",
            "95d2c0c2f3b947e5b4ecd6424bcb3a45"
          ]
        },
        "id": "Ucll11-NYnzQ",
        "outputId": "b6a09ebd-f3fd-4fb4-d846-e602a6bd0659"
      },
      "outputs": [
        {
          "name": "stdout",
          "output_type": "stream",
          "text": [
            "Downloading https://www.cs.toronto.edu/~kriz/cifar-100-python.tar.gz to ./data/cifar-100-python.tar.gz\n"
          ]
        },
        {
          "data": {
            "application/vnd.jupyter.widget-view+json": {
              "model_id": "e0966d1fe7ec4795917d26815a31fbb9",
              "version_major": 2,
              "version_minor": 0
            },
            "text/plain": [
              "  0%|          | 0/169001437 [00:00<?, ?it/s]"
            ]
          },
          "metadata": {},
          "output_type": "display_data"
        },
        {
          "name": "stdout",
          "output_type": "stream",
          "text": [
            "Extracting ./data/cifar-100-python.tar.gz to ./data\n",
            "Files already downloaded and verified\n"
          ]
        }
      ],
      "source": [
        "stats = [(0.4914, 0.4822, 0.4465), (0.2023, 0.1994, 0.2010)]\n",
        "train_tfm = tt.Compose([tt.RandomCrop(32, padding=4, padding_mode='reflect'),\n",
        "                        tt.RandomHorizontalFlip(),\n",
        "                        tt.ToTensor(),\n",
        "                        tt.Normalize(*stats, inplace=True)])\n",
        "val_tfm = tt.Compose([tt.ToTensor(), tt.Normalize(*stats)])\n",
        "val_ds = CIFAR100(\n",
        "    root='./data', train=False, download=True, transform=val_tfm)\n",
        "train_ds = CIFAR100(\n",
        "    root='./data', train=True, download=True, transform=train_tfm)"
      ]
    },
    {
      "cell_type": "code",
      "execution_count": 3,
      "metadata": {
        "id": "XyWf1D_NdrmO"
      },
      "outputs": [],
      "source": [
        "batch_size = 128\n",
        "train_dl = DataLoader(train_ds, batch_size, shuffle=True, num_workers=2, pin_memory=True)\n",
        "val_dl = DataLoader(val_ds, batch_size, num_workers=2, pin_memory=True)"
      ]
    },
    {
      "cell_type": "code",
      "execution_count": 4,
      "metadata": {
        "id": "aBcnAe8TeMSC"
      },
      "outputs": [],
      "source": [
        "from torch.utils import data\n",
        "def get_default_device():\n",
        "  if torch.cuda.is_available():\n",
        "    return torch.device('cuda')\n",
        "  else:\n",
        "    return torch.device('cpu')\n",
        "\n",
        "  \n",
        "def to_device(data, device):\n",
        "  if isinstance(data, (list, tuple)):\n",
        "    return [to_device(x, device) for x in data]\n",
        "  else:\n",
        "    return data.to(device, non_blocking=True)\n",
        "\n",
        "\n",
        "class DeviceDataLoader():\n",
        "  def __init__(self, dl, device):\n",
        "    self.dl = dl\n",
        "    self.device = device\n",
        "  \n",
        "  def __iter__(self):\n",
        "    for b in self.dl:\n",
        "      yield to_device(b, self.device)\n",
        "  \n",
        "  def __len__(self):\n",
        "    return len(self.dl)"
      ]
    },
    {
      "cell_type": "code",
      "execution_count": 5,
      "metadata": {
        "id": "otlVtGLygiXg"
      },
      "outputs": [],
      "source": [
        "def accuracy(output, label):\n",
        "  _, pred = torch.max(output, dim=1)\n",
        "  return torch.tensor(torch.sum(pred == label).item() / len(pred))\n",
        "\n",
        "class CIFAR100ClassificationBase(nn.Module):\n",
        "\n",
        "  def training_step(self, batch):\n",
        "    image, label = batch\n",
        "    out = self(image)\n",
        "    loss = F.cross_entropy(out, label)\n",
        "    acc = accuracy(out, label)\n",
        "    return loss\n",
        "\n",
        "  def validation_step(self, batch):\n",
        "    image, label = batch\n",
        "    out = self(image)\n",
        "    loss = F.cross_entropy(out, label)\n",
        "    acc = accuracy(out, label)\n",
        "    return {'val_loss': loss.detach(), 'val_acc': acc}\n",
        "  \n",
        "  def validation_epoch_end(self, output):\n",
        "    batch_losses = [x['val_loss'] for x in output]\n",
        "    epoch_loss = torch.stack(batch_losses).mean()\n",
        "    batch_accs = [x['val_acc'] for x in output]\n",
        "    epoch_acc = torch.stack(batch_accs).mean()\n",
        "    return {'val_loss': epoch_loss.item(), 'val_acc': epoch_acc.item()}\n",
        "  \n",
        "  def epoch_end(self, epoch, result):\n",
        "    print(\"Epoch [{}], last_lr: {:.4f}, train_loss: {:.4f}, val_loss: {:.4f}, val_acc: {:.4f}\".format(\n",
        "            epoch, result['lr'][-1], result['train_loss'], result['val_loss'], result['val_acc']))"
      ]
    },
    {
      "cell_type": "code",
      "execution_count": 6,
      "metadata": {
        "id": "KBeXdfs0qk2m"
      },
      "outputs": [],
      "source": [
        "def conv_block(in_channels, out_channels, pool=False):\n",
        "  layers = [nn.Conv2d(in_channels, out_channels, kernel_size=3, padding=1),\n",
        "            nn.BatchNorm2d(out_channels),\n",
        "            nn.ReLU(inplace=True)]\n",
        "  if pool: \n",
        "    layers.append(nn.MaxPool2d(2))\n",
        "  return nn.Sequential(*layers)"
      ]
    },
    {
      "cell_type": "code",
      "execution_count": 7,
      "metadata": {
        "id": "5rBZdTtgyB0H"
      },
      "outputs": [],
      "source": [
        "class ResNet9(CIFAR100ClassificationBase):\n",
        "  def __init__(self, in_channels, out_classes):\n",
        "    super().__init__()\n",
        "\n",
        "    self.conv1 = conv_block(in_channels, 64)\n",
        "    self.conv2 = conv_block(64, 128, pool=True)\n",
        "    self.res1 = nn.Sequential(conv_block(128, 128), conv_block(128, 128))\n",
        "\n",
        "    self.conv3 = conv_block(128, 256, pool=True)\n",
        "    self.conv4 = conv_block(256, 512, pool=True)\n",
        "    self.res2 = nn.Sequential(conv_block(512, 512), conv_block(512, 512))\n",
        "\n",
        "    self.classifier = nn.Sequential(nn.MaxPool2d(4),\n",
        "                                    nn.Flatten(),\n",
        "                                    nn.Dropout(0.2),\n",
        "                                    nn.Linear(512, out_classes))\n",
        "    \n",
        "  def forward(self, xb):\n",
        "    out = self.conv1(xb)\n",
        "    out = self.conv2(out)\n",
        "    out = self.res1(out) + out\n",
        "    out = self.conv3(out)\n",
        "    out = self.conv4(out)\n",
        "    out = self.res2(out) + out\n",
        "    out = self.classifier(out)\n",
        "    return out"
      ]
    },
    {
      "cell_type": "code",
      "execution_count": 8,
      "metadata": {
        "id": "baBysdYM_1_V"
      },
      "outputs": [],
      "source": [
        "@torch.no_grad()\n",
        "def evaluate(model, val_loader):\n",
        "  model.eval()\n",
        "  outputs = [model.validation_step(batch) for batch in val_loader]\n",
        "  return model.validation_epoch_end(outputs)\n",
        "\n",
        "\n",
        "def get_lr(optimizer):\n",
        "  for param_group in optimizer.param_groups:\n",
        "    return param_group['lr']\n",
        "\n",
        "\n",
        "def fit_one_cycle(epochs, max_lr, model, train_loader, val_loader\n",
        "                  , weight_decay, grad_clip=0, opt_func=torch.optim.SGD):\n",
        "  torch.cuda.empty_cache()\n",
        "  history = []\n",
        "  \n",
        "\n",
        "  optimizer = opt_func(model.parameters(), max_lr, weight_decay=weight_decay)\n",
        "  scheduled = torch.optim.lr_scheduler.OneCycleLR(\n",
        "      optimizer, max_lr, epochs=epochs, steps_per_epoch = len(train_loader))\n",
        "  \n",
        "\n",
        "  for epoch in range(epochs):\n",
        "    model.train()\n",
        "    train_losses = []\n",
        "    lrs = []\n",
        "    for batch in train_loader:\n",
        "      loss = model.training_step(batch)\n",
        "      train_losses.append(loss)\n",
        "      loss.backward()\n",
        "    \n",
        "      if grad_clip:\n",
        "        nn.utils.clip_grad_value_(model.parameters(), grad_clip)\n",
        "      \n",
        "      optimizer.step()\n",
        "      optimizer.zero_grad()\n",
        "\n",
        "      lrs.append(get_lr(optimizer))\n",
        "      scheduled.step()\n",
        "\n",
        "    result = evaluate(model, val_loader)\n",
        "    result['train_loss'] = torch.stack(train_losses).mean().item()\n",
        "    result['lr'] = lrs\n",
        "    model.epoch_end(epoch, result)\n",
        "    history.append(result)\n",
        "  return history"
      ]
    },
    {
      "cell_type": "code",
      "execution_count": 9,
      "metadata": {
        "id": "5Fpin2r0yx8m"
      },
      "outputs": [],
      "source": [
        "device = get_default_device()\n",
        "model = to_device(ResNet9(3, 100), device)\n",
        "train_dl = DeviceDataLoader(train_dl, device)\n",
        "val_dl = DeviceDataLoader(val_dl, device)\n",
        "\n",
        "epochs = 30\n",
        "max_lr = 0.05\n",
        "grad_clip = 0.1\n",
        "weight_decay = 0.0001\n",
        "opt_func = torch.optim.SGD"
      ]
    },
    {
      "cell_type": "code",
      "execution_count": 10,
      "metadata": {
        "colab": {
          "base_uri": "https://localhost:8080/"
        },
        "id": "d7LFmlm3zuPN",
        "outputId": "ce626197-d417-4929-9673-629afa3f743b"
      },
      "outputs": [
        {
          "name": "stdout",
          "output_type": "stream",
          "text": [
            "Epoch [0], last_lr: 0.0034, train_loss: 4.0422, val_loss: 3.5821, val_acc: 0.1769\n",
            "Epoch [1], last_lr: 0.0076, train_loss: 3.4074, val_loss: 3.0880, val_acc: 0.2476\n",
            "Epoch [2], last_lr: 0.0140, train_loss: 2.9562, val_loss: 2.6293, val_acc: 0.3279\n",
            "Epoch [3], last_lr: 0.0218, train_loss: 2.5416, val_loss: 2.3733, val_acc: 0.3894\n",
            "Epoch [4], last_lr: 0.0302, train_loss: 2.1789, val_loss: 2.3313, val_acc: 0.3938\n",
            "Epoch [5], last_lr: 0.0380, train_loss: 1.9215, val_loss: 1.8567, val_acc: 0.4937\n",
            "Epoch [6], last_lr: 0.0444, train_loss: 1.7342, val_loss: 1.8200, val_acc: 0.5123\n",
            "Epoch [7], last_lr: 0.0486, train_loss: 1.5705, val_loss: 1.7306, val_acc: 0.5194\n",
            "Epoch [8], last_lr: 0.0500, train_loss: 1.4544, val_loss: 1.5662, val_acc: 0.5670\n",
            "Epoch [9], last_lr: 0.0497, train_loss: 1.3257, val_loss: 1.6014, val_acc: 0.5590\n",
            "Epoch [10], last_lr: 0.0489, train_loss: 1.2306, val_loss: 1.4107, val_acc: 0.6127\n",
            "Epoch [11], last_lr: 0.0475, train_loss: 1.1514, val_loss: 1.4446, val_acc: 0.5947\n",
            "Epoch [12], last_lr: 0.0457, train_loss: 1.0540, val_loss: 1.3562, val_acc: 0.6241\n",
            "Epoch [13], last_lr: 0.0433, train_loss: 0.9832, val_loss: 1.2821, val_acc: 0.6410\n",
            "Epoch [14], last_lr: 0.0406, train_loss: 0.9141, val_loss: 1.3110, val_acc: 0.6460\n",
            "Epoch [15], last_lr: 0.0375, train_loss: 0.8517, val_loss: 1.2964, val_acc: 0.6561\n",
            "Epoch [16], last_lr: 0.0341, train_loss: 0.7664, val_loss: 1.3058, val_acc: 0.6541\n",
            "Epoch [17], last_lr: 0.0306, train_loss: 0.6989, val_loss: 1.2312, val_acc: 0.6650\n",
            "Epoch [18], last_lr: 0.0269, train_loss: 0.6257, val_loss: 1.2858, val_acc: 0.6662\n",
            "Epoch [19], last_lr: 0.0231, train_loss: 0.5875, val_loss: 1.1935, val_acc: 0.6837\n",
            "Epoch [20], last_lr: 0.0194, train_loss: 0.5074, val_loss: 1.1895, val_acc: 0.6985\n",
            "Epoch [21], last_lr: 0.0159, train_loss: 0.4450, val_loss: 1.1978, val_acc: 0.6914\n",
            "Epoch [22], last_lr: 0.0125, train_loss: 0.3786, val_loss: 1.2470, val_acc: 0.6963\n",
            "Epoch [23], last_lr: 0.0094, train_loss: 0.3172, val_loss: 1.1822, val_acc: 0.7075\n",
            "Epoch [24], last_lr: 0.0067, train_loss: 0.2579, val_loss: 1.1828, val_acc: 0.7111\n",
            "Epoch [25], last_lr: 0.0043, train_loss: 0.2093, val_loss: 1.1485, val_acc: 0.7245\n",
            "Epoch [26], last_lr: 0.0025, train_loss: 0.1707, val_loss: 1.1422, val_acc: 0.7297\n",
            "Epoch [27], last_lr: 0.0011, train_loss: 0.1438, val_loss: 1.1430, val_acc: 0.7316\n",
            "Epoch [28], last_lr: 0.0003, train_loss: 0.1327, val_loss: 1.1407, val_acc: 0.7318\n",
            "Epoch [29], last_lr: 0.0000, train_loss: 0.1257, val_loss: 1.1258, val_acc: 0.7330\n",
            "CPU times: user 7min 22s, sys: 17.5 s, total: 7min 39s\n",
            "Wall time: 15min 11s\n"
          ]
        }
      ],
      "source": [
        "%%time\n",
        "history = [evaluate(model, val_dl)]\n",
        "history += fit_one_cycle(epochs, max_lr, model, train_dl, val_dl\n",
        "                         , grad_clip=grad_clip, weight_decay=weight_decay, \n",
        "                         opt_func=opt_func)"
      ]
    },
    {
      "cell_type": "code",
      "execution_count": 11,
      "metadata": {
        "id": "BO211Zqt3ywc"
      },
      "outputs": [],
      "source": [
        "torch.save(model.state_dict(), 'CIFAR100_ResNet9.pth')"
      ]
    },
    {
      "cell_type": "code",
      "execution_count": 12,
      "metadata": {
        "id": "OKSuZ7JT4Fyv"
      },
      "outputs": [],
      "source": [
        "def loss_vs_epoch(history):\n",
        "  train_ls = [result.get('train_loss') for result in history]\n",
        "  val_ls = [result['val_loss'] for result in history]\n",
        "  plt.plot(train_ls, '-ro')\n",
        "  plt.plot(val_ls, '-bo')\n",
        "  plt.xlabel('Epoch')\n",
        "  plt.ylabel('Loss')\n",
        "  plt.legend(['Train', 'Validation'])\n",
        "  plt.title('Loss vs Epoch')"
      ]
    },
    {
      "cell_type": "code",
      "execution_count": 13,
      "metadata": {
        "id": "sfsUoQMp50lq"
      },
      "outputs": [],
      "source": [
        "def acc_vs_epoch(history):\n",
        "  val_ac = [result['val_acc'] for result in history]\n",
        "  plt.plot(val_ac, '-x')\n",
        "  plt.xlabel('Accuracy')\n",
        "  plt.ylabel('Epoch')\n",
        "  plt.title('Accuracy vs Epoch')"
      ]
    },
    {
      "cell_type": "code",
      "execution_count": 14,
      "metadata": {
        "id": "cR6LBE1r6jDV"
      },
      "outputs": [],
      "source": [
        "def plot_lr(history):\n",
        "  learning_rate = np.concatenate([result.get('lr', []) for result in history])\n",
        "  plt.plot(learning_rate)\n",
        "  plt.ylabel('Learning rate')\n",
        "  plt.xlabel('Batch')\n",
        "  plt.title('Learning Rate Curve')"
      ]
    },
    {
      "cell_type": "code",
      "execution_count": 15,
      "metadata": {
        "colab": {
          "base_uri": "https://localhost:8080/",
          "height": 295
        },
        "id": "JiqRTeEl5Nhp",
        "outputId": "05d0763a-a62d-4831-9798-214e84342d5d"
      },
      "outputs": [
        {
          "data": {
            "image/png": "[encoded data removed]",
            "text/plain": [
              "<Figure size 432x288 with 1 Axes>"
            ]
          },
          "metadata": {
            "needs_background": "light"
          },
          "output_type": "display_data"
        }
      ],
      "source": [
        "loss_vs_epoch(history)"
      ]
    },
    {
      "cell_type": "code",
      "execution_count": 16,
      "metadata": {
        "colab": {
          "base_uri": "https://localhost:8080/",
          "height": 295
        },
        "id": "ebHt4e5i6VEv",
        "outputId": "61452576-a68d-4203-a850-6e465bf80b47"
      },
      "outputs": [
        {
          "data": {
            "image/png": "[encoded data removed]",
            "text/plain": [
              "<Figure size 432x288 with 1 Axes>"
            ]
          },
          "metadata": {
            "needs_background": "light"
          },
          "output_type": "display_data"
        }
      ],
      "source": [
        "acc_vs_epoch(history)"
      ]
    },
    {
      "cell_type": "code",
      "execution_count": 17,
      "metadata": {
        "colab": {
          "base_uri": "https://localhost:8080/",
          "height": 295
        },
        "id": "UBUc8CF77Jp5",
        "outputId": "6942429d-36d7-457e-881b-1d12e9b10a5a"
      },
      "outputs": [
        {
          "data": {
            "image/png": "[encoded data removed]",
            "text/plain": [
              "<Figure size 432x288 with 1 Axes>"
            ]
          },
          "metadata": {
            "needs_background": "light"
          },
          "output_type": "display_data"
        }
      ],
      "source": [
        "plot_lr(history)"
      ]
    }
  ],
  "metadata": {
    "accelerator": "GPU",
    "colab": {
      "collapsed_sections": [],
      "name": "CIFAR.ipynb",
      "provenance": []
    },
    "gpuClass": "standard",
    "kernelspec": {
      "display_name": "Python 3.9.12 ('pytorch')",
      "language": "python",
      "name": "python3"
    },
    "language_info": {
      "name": "python",
      "version": "3.9.12"
    },
    "vscode": {
      "interpreter": {
        "hash": "f5b916051ec391ef3c1c0123575e59cad2c35863d294dd079abc5845c0e5babb"
      }
    },
    "widgets": {
      "application/vnd.jupyter.widget-state+json": {
        "35a50ad3e48d49e6894312bfc2dbba47": {
          "model_module": "@jupyter-widgets/base",
          "model_module_version": "1.2.0",
          "model_name": "LayoutModel",
          "state": {
            "_model_module": "@jupyter-widgets/base",
            "_model_module_version": "1.2.0",
            "_model_name": "LayoutModel",
            "_view_count": null,
            "_view_module": "@jupyter-widgets/base",
            "_view_module_version": "1.2.0",
            "_view_name": "LayoutView",
            "align_content": null,
            "align_items": null,
            "align_self": null,
            "border": null,
            "bottom": null,
            "display": null,
            "flex": null,
            "flex_flow": null,
            "grid_area": null,
            "grid_auto_columns": null,
            "grid_auto_flow": null,
            "grid_auto_rows": null,
            "grid_column": null,
            "grid_gap": null,
            "grid_row": null,
            "grid_template_areas": null,
            "grid_template_columns": null,
            "grid_template_rows": null,
            "height": null,
            "justify_content": null,
            "justify_items": null,
            "left": null,
            "margin": null,
            "max_height": null,
            "max_width": null,
            "min_height": null,
            "min_width": null,
            "object_fit": null,
            "object_position": null,
            "order": null,
            "overflow": null,
            "overflow_x": null,
            "overflow_y": null,
            "padding": null,
            "right": null,
            "top": null,
            "visibility": null,
            "width": null
          }
        },
        "40e0de4bc2ae42bfaea4027551335c6a": {
          "model_module": "@jupyter-widgets/controls",
          "model_module_version": "1.5.0",
          "model_name": "HTMLModel",
          "state": {
            "_dom_classes": [],
            "_model_module": "@jupyter-widgets/controls",
            "_model_module_version": "1.5.0",
            "_model_name": "HTMLModel",
            "_view_count": null,
            "_view_module": "@jupyter-widgets/controls",
            "_view_module_version": "1.5.0",
            "_view_name": "HTMLView",
            "description": "",
            "description_tooltip": null,
            "layout": "IPY_MODEL_35a50ad3e48d49e6894312bfc2dbba47",
            "placeholder": "​",
            "style": "IPY_MODEL_52c2cb6b32d348e09ca59f0d7ea9ee66",
            "value": "100%"
          }
        },
        "418b8528e45442d7bd6d29334a200683": {
          "model_module": "@jupyter-widgets/base",
          "model_module_version": "1.2.0",
          "model_name": "LayoutModel",
          "state": {
            "_model_module": "@jupyter-widgets/base",
            "_model_module_version": "1.2.0",
            "_model_name": "LayoutModel",
            "_view_count": null,
            "_view_module": "@jupyter-widgets/base",
            "_view_module_version": "1.2.0",
            "_view_name": "LayoutView",
            "align_content": null,
            "align_items": null,
            "align_self": null,
            "border": null,
            "bottom": null,
            "display": null,
            "flex": null,
            "flex_flow": null,
            "grid_area": null,
            "grid_auto_columns": null,
            "grid_auto_flow": null,
            "grid_auto_rows": null,
            "grid_column": null,
            "grid_gap": null,
            "grid_row": null,
            "grid_template_areas": null,
            "grid_template_columns": null,
            "grid_template_rows": null,
            "height": null,
            "justify_content": null,
            "justify_items": null,
            "left": null,
            "margin": null,
            "max_height": null,
            "max_width": null,
            "min_height": null,
            "min_width": null,
            "object_fit": null,
            "object_position": null,
            "order": null,
            "overflow": null,
            "overflow_x": null,
            "overflow_y": null,
            "padding": null,
            "right": null,
            "top": null,
            "visibility": null,
            "width": null
          }
        },
        "46ebf66938d64721b76ca2347a08d0d1": {
          "model_module": "@jupyter-widgets/controls",
          "model_module_version": "1.5.0",
          "model_name": "ProgressStyleModel",
          "state": {
            "_model_module": "@jupyter-widgets/controls",
            "_model_module_version": "1.5.0",
            "_model_name": "ProgressStyleModel",
            "_view_count": null,
            "_view_module": "@jupyter-widgets/base",
            "_view_module_version": "1.2.0",
            "_view_name": "StyleView",
            "bar_color": null,
            "description_width": ""
          }
        },
        "52c2cb6b32d348e09ca59f0d7ea9ee66": {
          "model_module": "@jupyter-widgets/controls",
          "model_module_version": "1.5.0",
          "model_name": "DescriptionStyleModel",
          "state": {
            "_model_module": "@jupyter-widgets/controls",
            "_model_module_version": "1.5.0",
            "_model_name": "DescriptionStyleModel",
            "_view_count": null,
            "_view_module": "@jupyter-widgets/base",
            "_view_module_version": "1.2.0",
            "_view_name": "StyleView",
            "description_width": ""
          }
        },
        "95d2c0c2f3b947e5b4ecd6424bcb3a45": {
          "model_module": "@jupyter-widgets/controls",
          "model_module_version": "1.5.0",
          "model_name": "DescriptionStyleModel",
          "state": {
            "_model_module": "@jupyter-widgets/controls",
            "_model_module_version": "1.5.0",
            "_model_name": "DescriptionStyleModel",
            "_view_count": null,
            "_view_module": "@jupyter-widgets/base",
            "_view_module_version": "1.2.0",
            "_view_name": "StyleView",
            "description_width": ""
          }
        },
        "ab942da342b84796a46f06c356eb2531": {
          "model_module": "@jupyter-widgets/base",
          "model_module_version": "1.2.0",
          "model_name": "LayoutModel",
          "state": {
            "_model_module": "@jupyter-widgets/base",
            "_model_module_version": "1.2.0",
            "_model_name": "LayoutModel",
            "_view_count": null,
            "_view_module": "@jupyter-widgets/base",
            "_view_module_version": "1.2.0",
            "_view_name": "LayoutView",
            "align_content": null,
            "align_items": null,
            "align_self": null,
            "border": null,
            "bottom": null,
            "display": null,
            "flex": null,
            "flex_flow": null,
            "grid_area": null,
            "grid_auto_columns": null,
            "grid_auto_flow": null,
            "grid_auto_rows": null,
            "grid_column": null,
            "grid_gap": null,
            "grid_row": null,
            "grid_template_areas": null,
            "grid_template_columns": null,
            "grid_template_rows": null,
            "height": null,
            "justify_content": null,
            "justify_items": null,
            "left": null,
            "margin": null,
            "max_height": null,
            "max_width": null,
            "min_height": null,
            "min_width": null,
            "object_fit": null,
            "object_position": null,
            "order": null,
            "overflow": null,
            "overflow_x": null,
            "overflow_y": null,
            "padding": null,
            "right": null,
            "top": null,
            "visibility": null,
            "width": null
          }
        },
        "d14b13f5bdfc4097bc999228577d2f08": {
          "model_module": "@jupyter-widgets/controls",
          "model_module_version": "1.5.0",
          "model_name": "HTMLModel",
          "state": {
            "_dom_classes": [],
            "_model_module": "@jupyter-widgets/controls",
            "_model_module_version": "1.5.0",
            "_model_name": "HTMLModel",
            "_view_count": null,
            "_view_module": "@jupyter-widgets/controls",
            "_view_module_version": "1.5.0",
            "_view_name": "HTMLView",
            "description": "",
            "description_tooltip": null,
            "layout": "IPY_MODEL_418b8528e45442d7bd6d29334a200683",
            "placeholder": "​",
            "style": "IPY_MODEL_95d2c0c2f3b947e5b4ecd6424bcb3a45",
            "value": " 169001437/169001437 [00:12&lt;00:00, 14439408.86it/s]"
          }
        },
        "e0966d1fe7ec4795917d26815a31fbb9": {
          "model_module": "@jupyter-widgets/controls",
          "model_module_version": "1.5.0",
          "model_name": "HBoxModel",
          "state": {
            "_dom_classes": [],
            "_model_module": "@jupyter-widgets/controls",
            "_model_module_version": "1.5.0",
            "_model_name": "HBoxModel",
            "_view_count": null,
            "_view_module": "@jupyter-widgets/controls",
            "_view_module_version": "1.5.0",
            "_view_name": "HBoxView",
            "box_style": "",
            "children": [
              "IPY_MODEL_40e0de4bc2ae42bfaea4027551335c6a",
              "IPY_MODEL_fcdb2d7470434c15a4022341a0a0c814",
              "IPY_MODEL_d14b13f5bdfc4097bc999228577d2f08"
            ],
            "layout": "IPY_MODEL_e124c9bdf8ee4215a2a9b397f2ddcca1"
          }
        },
        "e124c9bdf8ee4215a2a9b397f2ddcca1": {
          "model_module": "@jupyter-widgets/base",
          "model_module_version": "1.2.0",
          "model_name": "LayoutModel",
          "state": {
            "_model_module": "@jupyter-widgets/base",
            "_model_module_version": "1.2.0",
            "_model_name": "LayoutModel",
            "_view_count": null,
            "_view_module": "@jupyter-widgets/base",
            "_view_module_version": "1.2.0",
            "_view_name": "LayoutView",
            "align_content": null,
            "align_items": null,
            "align_self": null,
            "border": null,
            "bottom": null,
            "display": null,
            "flex": null,
            "flex_flow": null,
            "grid_area": null,
            "grid_auto_columns": null,
            "grid_auto_flow": null,
            "grid_auto_rows": null,
            "grid_column": null,
            "grid_gap": null,
            "grid_row": null,
            "grid_template_areas": null,
            "grid_template_columns": null,
            "grid_template_rows": null,
            "height": null,
            "justify_content": null,
            "justify_items": null,
            "left": null,
            "margin": null,
            "max_height": null,
            "max_width": null,
            "min_height": null,
            "min_width": null,
            "object_fit": null,
            "object_position": null,
            "order": null,
            "overflow": null,
            "overflow_x": null,
            "overflow_y": null,
            "padding": null,
            "right": null,
            "top": null,
            "visibility": null,
            "width": null
          }
        },
        "fcdb2d7470434c15a4022341a0a0c814": {
          "model_module": "@jupyter-widgets/controls",
          "model_module_version": "1.5.0",
          "model_name": "FloatProgressModel",
          "state": {
            "_dom_classes": [],
            "_model_module": "@jupyter-widgets/controls",
            "_model_module_version": "1.5.0",
            "_model_name": "FloatProgressModel",
            "_view_count": null,
            "_view_module": "@jupyter-widgets/controls",
            "_view_module_version": "1.5.0",
            "_view_name": "ProgressView",
            "bar_style": "success",
            "description": "",
            "description_tooltip": null,
            "layout": "IPY_MODEL_ab942da342b84796a46f06c356eb2531",
            "max": 169001437,
            "min": 0,
            "orientation": "horizontal",
            "style": "IPY_MODEL_46ebf66938d64721b76ca2347a08d0d1",
            "value": 169001437
          }
        }
      }
    }
  },
  "nbformat": 4,
  "nbformat_minor": 0
}
